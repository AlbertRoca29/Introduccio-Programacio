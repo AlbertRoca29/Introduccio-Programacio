{
  "cells": [
    {
      "cell_type": "markdown",
      "metadata": {
        "id": "view-in-github",
        "colab_type": "text"
      },
      "source": [
        "<a href=\"https://colab.research.google.com/github/AlbertRoca29/Introduccio-Programacio/blob/main/Introducci%C3%B3_al_Python_1.ipynb\" target=\"_parent\"><img src=\"https://colab.research.google.com/assets/colab-badge.svg\" alt=\"Open In Colab\"/></a>"
      ]
    },
    {
      "cell_type": "markdown",
      "metadata": {
        "nbpages": {
          "level": 2,
          "link": "[1.2.2 Python Basics](https://jckantor.github.io/CBE30338/01.02-Python-Basics.html#1.2.2-Python-Basics)",
          "section": "1.2.2 Python Basics"
        },
        "id": "yDJzsZY71Yi0"
      },
      "source": [
        "# 1 Python Basics"
      ]
    },
    {
      "cell_type": "markdown",
      "source": [
        "### 1.0 Calculadora"
      ],
      "metadata": {
        "id": "PeaQDx2JNJi3"
      }
    },
    {
      "cell_type": "code",
      "source": [
        "# Operador tipics\n",
        "print( (3 + 8) * 2 - 5 )\n",
        "\n",
        "# Potencia\n",
        "print(2**3)\n",
        "\n",
        "# Residuu\n",
        "print(123 % 4)\n",
        "\n",
        "# Divisió i divisió entera\n",
        "print(7/3)\n",
        "print(7//3)"
      ],
      "metadata": {
        "id": "i2Mgwi57NJC0",
        "outputId": "04529e4e-f43e-4a60-84e2-4cc486b80fbd",
        "colab": {
          "base_uri": "https://localhost:8080/"
        }
      },
      "execution_count": 38,
      "outputs": [
        {
          "output_type": "stream",
          "name": "stdout",
          "text": [
            "17\n",
            "8\n",
            "3\n",
            "2.3333333333333335\n",
            "2\n"
          ]
        }
      ]
    },
    {
      "cell_type": "markdown",
      "source": [
        "**Exercici**: Donam el resultat de la següent operació:  $\\frac{(3 + 7)^2}{(2 \\times 4)} - 6$\n",
        "\n",
        "Recorda utilitzar ``print()`` !"
      ],
      "metadata": {
        "id": "3bXnxe4P41t5"
      }
    },
    {
      "cell_type": "code",
      "source": [
        "print( ((3+7)**2)/(2*4)-6 )"
      ],
      "metadata": {
        "id": "Ghcm2GQ-6Zei",
        "colab": {
          "base_uri": "https://localhost:8080/"
        },
        "outputId": "05328904-615a-481e-902b-1ec24dfdc024"
      },
      "execution_count": 39,
      "outputs": [
        {
          "output_type": "stream",
          "name": "stdout",
          "text": [
            "6.5\n"
          ]
        }
      ]
    },
    {
      "cell_type": "markdown",
      "metadata": {
        "nbpages": {
          "level": 3,
          "link": "[1.2.2.1 Variables](https://jckantor.github.io/CBE30338/01.02-Python-Basics.html#1.2.2.1-Variables)",
          "section": "1.2.2.1 Variables"
        },
        "id": "gsiWm97J1Yi1"
      },
      "source": [
        "\n",
        "### 1.1 Variables"
      ]
    },
    {
      "cell_type": "markdown",
      "source": [
        "Una variable guarda a memòria una dada i li dona un nom"
      ],
      "metadata": {
        "id": "1U4k63s52ExC"
      }
    },
    {
      "cell_type": "code",
      "source": [
        "# Integers (int)\n",
        "\n",
        "answer = 42\n",
        "\n",
        "# Booleans (bool)\n",
        "\n",
        "is_it_thursday = True\n",
        "is_it_wednesday = False\n",
        "\n",
        "# Floating point number (float)\n",
        "\n",
        "pi_approx = 3.1415\n",
        "\n",
        "# String (str)\n",
        "\n",
        "my_name = \"Albert\"\n",
        "your_name = 'Jordi'"
      ],
      "metadata": {
        "id": "ddqxNWvj2Iwm"
      },
      "execution_count": 40,
      "outputs": []
    },
    {
      "cell_type": "markdown",
      "source": [
        "**Exercici:** Per veure de quin tipus són utilitza ``type()``. Prova-ho i intenta trobar nous tipus de variable."
      ],
      "metadata": {
        "id": "LDSAv8_25heb"
      }
    },
    {
      "cell_type": "code",
      "source": [
        "type(0)"
      ],
      "metadata": {
        "id": "IsW37BLL6YMl",
        "colab": {
          "base_uri": "https://localhost:8080/"
        },
        "outputId": "7752f4e0-ff00-44ab-bef0-522257f3b2b0"
      },
      "execution_count": 41,
      "outputs": [
        {
          "output_type": "execute_result",
          "data": {
            "text/plain": [
              "int"
            ]
          },
          "metadata": {},
          "execution_count": 41
        }
      ]
    },
    {
      "cell_type": "markdown",
      "source": [
        "Versatilitat de python (en C++ seria impossible)"
      ],
      "metadata": {
        "id": "v7RMQOxV3M08"
      }
    },
    {
      "cell_type": "code",
      "source": [
        "a = 123  # ocupa poc a memòria\n",
        "print(a)\n",
        "a = 0.00000000001 # ocupa més a memòria\n",
        "print(a)\n",
        "a = 'Hola bon dia em dic Albert' # ocupa molt a memòria\n",
        "print(a)"
      ],
      "metadata": {
        "id": "JgFAxrJJ3Qf_",
        "outputId": "6e199580-9cdb-43da-bcde-8b5c4262f189",
        "colab": {
          "base_uri": "https://localhost:8080/"
        }
      },
      "execution_count": 42,
      "outputs": [
        {
          "output_type": "stream",
          "name": "stdout",
          "text": [
            "123\n",
            "1e-11\n",
            "Hola bon dia em dic Albert\n"
          ]
        }
      ]
    },
    {
      "cell_type": "markdown",
      "metadata": {
        "nbpages": {
          "level": 3,
          "link": "[1.2.2.2 More Complicated Data Types](https://jckantor.github.io/CBE30338/01.02-Python-Basics.html#1.2.2.2-More-Complicated-Data-Types)",
          "section": "1.2.2.2 More Complicated Data Types"
        },
        "id": "pxykqvhT1Yi5"
      },
      "source": [
        "### 1.2 More Complicated Data Types"
      ]
    },
    {
      "cell_type": "code",
      "execution_count": 43,
      "metadata": {
        "nbpages": {
          "level": 3,
          "link": "[1.2.2.2 More Complicated Data Types](https://jckantor.github.io/CBE30338/01.02-Python-Basics.html#1.2.2.2-More-Complicated-Data-Types)",
          "section": "1.2.2.2 More Complicated Data Types"
        },
        "scrolled": true,
        "id": "jNxQpHWj1Yi5",
        "outputId": "51af5907-4ff0-4a79-8d00-466caf34c090",
        "colab": {
          "base_uri": "https://localhost:8080/"
        }
      },
      "outputs": [
        {
          "output_type": "stream",
          "name": "stdout",
          "text": [
            "['Green', 'Blue', 'Red']\n",
            "[10, 20, 30, 40, 50, 'Sixty']\n",
            "Green\n",
            "Red\n"
          ]
        }
      ],
      "source": [
        "# List\n",
        "prices = [10, 20, 30, 40, 50]\n",
        "\n",
        "# Empty list\n",
        "colors = []\n",
        "\n",
        "# Per afegir elements al final d'una llista : append\n",
        "colors.append(\"Green\")\n",
        "colors.append(\"Blue\")\n",
        "colors.append(\"Red\")\n",
        "\n",
        "print(colors)\n",
        "\n",
        "# Els elements de la llista poden ser de tipus diferents\n",
        "prices.append(\"Sixty\")\n",
        "\n",
        "print(prices)\n",
        "\n",
        "# Per tenir accés a la posició i de una llista ho farem així:\n",
        "print(colors[0])\n",
        "print(colors[2])\n",
        "\n",
        "# En python (i també en C++) el primer element de la llista és el 0\n",
        "\n",
        "# En alguns llenguatges com el R, es comença per el 1"
      ]
    },
    {
      "cell_type": "markdown",
      "source": [
        "**Exercici**: busca com afegir un element al mig d'una llista. I afegeix a la llista colors el color \"Yellow\" enmig del \"Blue\" i el \"Red\".\n",
        "\n",
        "La documentació oficial de python és bastant útil, t'explica els conceptes amb exemples: https://docs.python.org/3/tutorial/datastructures.html"
      ],
      "metadata": {
        "id": "4_gl8TeYRH7i"
      }
    },
    {
      "cell_type": "code",
      "source": [
        "Yellow=\"Black\"\n",
        "colors.insert(2,Yellow)"
      ],
      "metadata": {
        "id": "2XziJImoAjA2"
      },
      "execution_count": 44,
      "outputs": []
    },
    {
      "cell_type": "code",
      "source": [
        "print(colors)"
      ],
      "metadata": {
        "colab": {
          "base_uri": "https://localhost:8080/"
        },
        "id": "iUmi1RN3Bs3B",
        "outputId": "5eac729b-9d6c-4d09-c0b2-e6713a4958cd"
      },
      "execution_count": 45,
      "outputs": [
        {
          "output_type": "stream",
          "name": "stdout",
          "text": [
            "['Green', 'Blue', 'Black', 'Red']\n"
          ]
        }
      ]
    },
    {
      "cell_type": "code",
      "source": [
        "# Tuples\n",
        "\n",
        "# Son com les llistes pero que no es poden modificar\n",
        "\n",
        "# Tupla buida (inutil):\n",
        "empty_tuple = ()\n",
        "\n",
        "# Tupla:\n",
        "rosa_parks_info = (\"Rosa\", \"Parks\", 1913, \"February\", 4)\n",
        "\n",
        "# Per accedir als elements es com a les llistes\n",
        "\n",
        "print(rosa_parks_info[0] + \"*\" + rosa_parks_info[1])    # Fixat que per ajuntar strings es pot fer amb \"+\"\n",
        "print(rosa_parks_info[0] , rosa_parks_info[1])          # La coma també serveix , i afegeix un espai entre elements\n",
        "\n",
        "# S'utilitzen moolt menys que les llistes"
      ],
      "metadata": {
        "id": "VPdRskVPPcKz",
        "colab": {
          "base_uri": "https://localhost:8080/"
        },
        "outputId": "17b444d0-036e-45bf-b842-0840f69ff906"
      },
      "execution_count": 46,
      "outputs": [
        {
          "output_type": "stream",
          "name": "stdout",
          "text": [
            "Rosa*Parks\n",
            "Rosa Parks\n"
          ]
        }
      ]
    },
    {
      "cell_type": "markdown",
      "source": [
        "De tipus de variable basics m'he deixat el **set** i el **dictionary**.\n",
        "\n",
        "\n",
        "\n",
        "\n",
        "\n",
        "\n"
      ],
      "metadata": {
        "id": "puHW0nnLP9IQ"
      }
    },
    {
      "cell_type": "markdown",
      "metadata": {
        "nbpages": {
          "level": 3,
          "link": "[1.2.2.3 Using Variables](https://jckantor.github.io/CBE30338/01.02-Python-Basics.html#1.2.2.3-Using-Variables)",
          "section": "1.2.2.3 Using Variables"
        },
        "id": "fo1FvGgd1Yi6"
      },
      "source": [
        "### 1.3 Using Variables"
      ]
    },
    {
      "cell_type": "code",
      "execution_count": 47,
      "metadata": {
        "nbpages": {
          "level": 3,
          "link": "[1.2.2.3 Using Variables](https://jckantor.github.io/CBE30338/01.02-Python-Basics.html#1.2.2.3-Using-Variables)",
          "section": "1.2.2.3 Using Variables"
        },
        "scrolled": true,
        "id": "I8KTji-G1Yi6",
        "outputId": "845429fb-45da-46fe-91a3-6b7efd9b210a",
        "colab": {
          "base_uri": "https://localhost:8080/"
        }
      },
      "outputs": [
        {
          "output_type": "stream",
          "name": "stdout",
          "text": [
            "8.0\n",
            "3.5\n",
            "12.9375\n",
            "2.5555555555555554\n",
            "2.0\n"
          ]
        }
      ],
      "source": [
        "float1 = 5.75\n",
        "float2 = 2.25\n",
        "\n",
        "# Addition, subtraction, multiplication, division are as you expect\n",
        "\n",
        "print(float1 + float2)\n",
        "print(float1 - float2)\n",
        "print(float1 * float2)\n",
        "print(float1 / float2)\n",
        "print(float1 // float2) # divisió entera"
      ]
    },
    {
      "cell_type": "markdown",
      "source": [
        "**Exercici**: Dona el resultat de la seguent expressió definint les variables anteriorment.\n",
        "\n",
        "$$\n",
        "\\frac{(4 + 9L) \\times (6 - 2r)}{5t}$$\n"
      ],
      "metadata": {
        "id": "LmMJJRBY9naI"
      }
    },
    {
      "cell_type": "code",
      "source": [
        "L=2\n",
        "r=3\n",
        "t=1\n",
        "print(((4+9*L)*(6-2*r))/(5*t))"
      ],
      "metadata": {
        "id": "KKeqQpbf9kus",
        "colab": {
          "base_uri": "https://localhost:8080/"
        },
        "outputId": "3f9cd477-bb07-4854-91c4-70ae0effb488"
      },
      "execution_count": 48,
      "outputs": [
        {
          "output_type": "stream",
          "name": "stdout",
          "text": [
            "0.0\n"
          ]
        }
      ]
    },
    {
      "cell_type": "markdown",
      "metadata": {
        "nbpages": {
          "level": 3,
          "link": "[1.2.2.4 Importing in Python: Math and plotting](https://jckantor.github.io/CBE30338/01.02-Python-Basics.html#1.2.2.4-Importing-in-Python:-Math-and-plotting)",
          "section": "1.2.2.4 Importing in Python: Math and plotting"
        },
        "id": "i0ueClb41Yi7"
      },
      "source": [
        "### 1.4 Importing in Python: Libraries **EXTRA**"
      ]
    },
    {
      "cell_type": "markdown",
      "source": [
        "Utilitzar codi fora del base de python."
      ],
      "metadata": {
        "id": "XA4tl8VcULv5"
      }
    },
    {
      "cell_type": "markdown",
      "source": [
        "En general, abans d'utlitzar un paquet hauràs d'instalar-lo:\n",
        "\n",
        "``pip install numpy``\n",
        "\n",
        "``conda install numpy`` (en el cas de anaconda)"
      ],
      "metadata": {
        "id": "5Ox2jHpoUqVH"
      }
    },
    {
      "cell_type": "markdown",
      "source": [
        "**Math**"
      ],
      "metadata": {
        "id": "jCpDMu3NTk2P"
      }
    },
    {
      "cell_type": "markdown",
      "source": [
        "El propi python només conté les operacions matemàtiques més senzilles, però utilitzant el paquet \"math\" en podem utilitzar moltissimes"
      ],
      "metadata": {
        "id": "JUFztVGjT7B_"
      }
    },
    {
      "cell_type": "code",
      "execution_count": 49,
      "metadata": {
        "nbpages": {
          "level": 3,
          "link": "[1.2.2.4 Importing in Python: Math and plotting](https://jckantor.github.io/CBE30338/01.02-Python-Basics.html#1.2.2.4-Importing-in-Python:-Math-and-plotting)",
          "section": "1.2.2.4 Importing in Python: Math and plotting"
        },
        "id": "OsqpAwjn1Yi7",
        "outputId": "515f02f3-cca6-46e4-a4b7-825cbfcc03e6",
        "colab": {
          "base_uri": "https://localhost:8080/"
        }
      },
      "outputs": [
        {
          "output_type": "stream",
          "name": "stdout",
          "text": [
            "1.749199854809259\n",
            "9.487735836358526\n",
            "[1, 2, 3, 4, 5, 1, 2, 3, 4, 5, 10]\n"
          ]
        }
      ],
      "source": [
        "import math\n",
        "print(math.log(float1))\n",
        "print(math.exp(float2))\n",
        "\n",
        "# pots fer operacions amb llistes senceres\n",
        "list3 = [1, 2, 3, 4, 5]\n",
        "print(2 * list3 + [10])"
      ]
    },
    {
      "cell_type": "markdown",
      "source": [
        "També es pot importar funcions especifiques, d'aquesta manera no caldrà posar el math. al principi"
      ],
      "metadata": {
        "id": "TBe849C2U_Wj"
      }
    },
    {
      "cell_type": "code",
      "source": [
        "from math import cos\n",
        "\n",
        "print(cos(0))"
      ],
      "metadata": {
        "id": "6BKVBAIrVFlh",
        "outputId": "67b155c3-44d5-49dd-9585-4f8715c69ef6",
        "colab": {
          "base_uri": "https://localhost:8080/"
        }
      },
      "execution_count": 50,
      "outputs": [
        {
          "output_type": "stream",
          "name": "stdout",
          "text": [
            "1.0\n"
          ]
        }
      ]
    },
    {
      "cell_type": "markdown",
      "source": [
        "**Numpy**"
      ],
      "metadata": {
        "id": "u0VKZFCuTrhZ"
      }
    },
    {
      "cell_type": "markdown",
      "source": [
        "Facilita molt el tractament de dades, i les operacions matemàtiques a grans blocs.\n",
        "\n",
        "Dins de la llibreria hi ha codi escrit en C que fa que sigui molt més ràpid"
      ],
      "metadata": {
        "id": "ejtSYFIzTu6Y"
      }
    },
    {
      "cell_type": "code",
      "source": [
        "import numpy as np\n",
        "\n",
        "# simple Numpy array\n",
        "data = [1, 2, 3, 4, 5]\n",
        "my_array = np.array(data)\n",
        "\n",
        "print(\"Original array:\", my_array)\n",
        "\n",
        "# Sumar 2 a cada element de l'array\n",
        "result = my_array + 2\n",
        "print(\"After adding 2:\", result)\n",
        "\n",
        "# Multiplicar per 3 cada element\n",
        "result = my_array * 3\n",
        "print(\"After multiplying by 3:\", result)\n",
        "\n",
        "# Calcular la mitjana\n",
        "mean_value = np.mean(my_array)\n",
        "print(\"Mean:\", mean_value)\n",
        "\n",
        "# Treure el minim\n",
        "max_value = np.max(my_array)\n",
        "print(\"Max:\", max_value)\n"
      ],
      "metadata": {
        "id": "kjTu4vT1UXeV",
        "colab": {
          "base_uri": "https://localhost:8080/"
        },
        "outputId": "9495f283-4976-450f-ec00-9de3dfc6ee74"
      },
      "execution_count": 51,
      "outputs": [
        {
          "output_type": "stream",
          "name": "stdout",
          "text": [
            "Original array: [1 2 3 4 5]\n",
            "After adding 2: [3 4 5 6 7]\n",
            "After multiplying by 3: [ 3  6  9 12 15]\n",
            "Mean: 3.0\n",
            "Max: 5\n"
          ]
        }
      ]
    },
    {
      "cell_type": "markdown",
      "source": [
        "**Matplotlib**"
      ],
      "metadata": {
        "id": "Xik88zOXUX29"
      }
    },
    {
      "cell_type": "markdown",
      "source": [
        "Alguns paquets et permeten fer gràfics"
      ],
      "metadata": {
        "id": "QXH82bRoWVgS"
      }
    },
    {
      "cell_type": "code",
      "execution_count": 52,
      "metadata": {
        "nbpages": {
          "level": 3,
          "link": "[1.2.2.4 Importing in Python: Math and plotting](https://jckantor.github.io/CBE30338/01.02-Python-Basics.html#1.2.2.4-Importing-in-Python:-Math-and-plotting)",
          "section": "1.2.2.4 Importing in Python: Math and plotting"
        },
        "id": "a9MQlDCt1Yi7",
        "outputId": "14197590-620a-47f6-e3c7-fc61558b5c99",
        "colab": {
          "base_uri": "https://localhost:8080/",
          "height": 0
        }
      },
      "outputs": [
        {
          "output_type": "execute_result",
          "data": {
            "text/plain": [
              "[<matplotlib.lines.Line2D at 0x798c55ccfee0>]"
            ]
          },
          "metadata": {},
          "execution_count": 52
        },
        {
          "output_type": "display_data",
          "data": {
            "text/plain": [
              "<Figure size 640x480 with 1 Axes>"
            ],
            "image/png": "[encoded data removed]"
          },
          "metadata": {}
        }
      ],
      "source": [
        "%matplotlib inline\n",
        "import matplotlib.pyplot as plt\n",
        "\n",
        "x_vals = [-2, -1, 0, 1, 2]\n",
        "y_vals = [34, -2, 0, 2, 4]\n",
        "plt.plot(x_vals, y_vals)"
      ]
    },
    {
      "cell_type": "markdown",
      "source": [
        "Un altre exemple"
      ],
      "metadata": {
        "id": "4-DTF3CSWwUn"
      }
    },
    {
      "cell_type": "code",
      "source": [
        "# Sample data\n",
        "categories = ['Category 1', 'Category 2', 'Category 3', 'Category 4']\n",
        "values = [25, 30, 15, 20]\n",
        "\n",
        "# Create a bar plot\n",
        "plt.bar(categories, values, color='skyblue')\n",
        "\n",
        "# Add labels and a title\n",
        "plt.xlabel('Categories')\n",
        "plt.ylabel('Values')\n",
        "plt.title('Basic Bar Plot')\n",
        "\n",
        "# Display the plot\n",
        "plt.show()"
      ],
      "metadata": {
        "id": "zUfHL0I5Wtlb",
        "outputId": "d2cd9ab8-2fd5-469b-f08e-819a0c44e1d6",
        "colab": {
          "base_uri": "https://localhost:8080/",
          "height": 0
        }
      },
      "execution_count": 53,
      "outputs": [
        {
          "output_type": "display_data",
          "data": {
            "text/plain": [
              "<Figure size 640x480 with 1 Axes>"
            ],
            "image/png": "[encoded data removed]"
          },
          "metadata": {}
        }
      ]
    },
    {
      "cell_type": "markdown",
      "source": [
        "Totes les llibreries aprovades es troben a https://pypi.org/\n",
        "\n",
        "Qualsevol pot crear llibreries, i es poden utilitzar a format local (les crees tu i les utilitzes pel teu projecte).\n"
      ],
      "metadata": {
        "id": "zgvwvSrpEuel"
      }
    }
  ],
  "metadata": {
    "anaconda-cloud": {},
    "kernelspec": {
      "display_name": "Python 3",
      "language": "python",
      "name": "python3"
    },
    "language_info": {
      "codemirror_mode": {
        "name": "ipython",
        "version": 3
      },
      "file_extension": ".py",
      "mimetype": "text/x-python",
      "name": "python",
      "nbconvert_exporter": "python",
      "pygments_lexer": "ipython3",
      "version": "3.7.3"
    },
    "colab": {
      "provenance": [],
      "include_colab_link": true
    }
  },
  "nbformat": 4,
  "nbformat_minor": 0
}