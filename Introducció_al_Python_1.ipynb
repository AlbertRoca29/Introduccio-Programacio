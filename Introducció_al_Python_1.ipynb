{
  "cells": [
    {
      "cell_type": "markdown",
      "metadata": {
        "id": "view-in-github",
        "colab_type": "text"
      },
      "source": [
        "<a href=\"https://colab.research.google.com/github/AlbertRoca29/Introduccio-Python/blob/main/Introducci%C3%B3_al_Python_1.ipynb\" target=\"_parent\"><img src=\"https://colab.research.google.com/assets/colab-badge.svg\" alt=\"Open In Colab\"/></a>"
      ]
    },
    {
      "cell_type": "markdown",
      "metadata": {
        "nbpages": {
          "level": 2,
          "link": "[1.2.2 Python Basics](https://jckantor.github.io/CBE30338/01.02-Python-Basics.html#1.2.2-Python-Basics)",
          "section": "1.2.2 Python Basics"
        },
        "id": "yDJzsZY71Yi0"
      },
      "source": [
        "# 1 Python Basics"
      ]
    },
    {
      "cell_type": "markdown",
      "source": [
        "### 1.0 Calculadora"
      ],
      "metadata": {
        "id": "PeaQDx2JNJi3"
      }
    },
    {
      "cell_type": "code",
      "source": [
        "# Operador tipics\n",
        "print( (3 + 8) * 2 - 5 )\n",
        "\n",
        "# Potencia\n",
        "print(2**3)\n",
        "\n",
        "# Residuu\n",
        "print(123 % 4)\n",
        "\n",
        "# Divisió i divisió entera\n",
        "print(7/3)\n",
        "print(7//3)"
      ],
      "metadata": {
        "id": "i2Mgwi57NJC0",
        "outputId": "762ed42f-80a2-4397-d11f-cb19f5315ec8",
        "colab": {
          "base_uri": "https://localhost:8080/"
        }
      },
      "execution_count": null,
      "outputs": [
        {
          "output_type": "stream",
          "name": "stdout",
          "text": [
            "17\n",
            "8\n",
            "3\n",
            "2.3333333333333335\n",
            "2\n"
          ]
        }
      ]
    },
    {
      "cell_type": "markdown",
      "metadata": {
        "nbpages": {
          "level": 3,
          "link": "[1.2.2.1 Variables](https://jckantor.github.io/CBE30338/01.02-Python-Basics.html#1.2.2.1-Variables)",
          "section": "1.2.2.1 Variables"
        },
        "id": "gsiWm97J1Yi1"
      },
      "source": [
        "### 1.1 Variables"
      ]
    },
    {
      "cell_type": "markdown",
      "source": [
        "A variable stores a piece of data and gives it a name"
      ],
      "metadata": {
        "id": "1U4k63s52ExC"
      }
    },
    {
      "cell_type": "code",
      "source": [
        "# Integers (int)\n",
        "\n",
        "answer = 42\n",
        "\n",
        "# Booleans (bool)\n",
        "\n",
        "is_it_thursday = True\n",
        "is_it_wednesday = False\n",
        "\n",
        "# Floating point number (float)\n",
        "\n",
        "pi_approx = 3.1415\n",
        "\n",
        "# String (str)\n",
        "\n",
        "my_name = \"Albert\"\n",
        "your_name = 'Jordi'"
      ],
      "metadata": {
        "id": "ddqxNWvj2Iwm",
        "outputId": "703c8445-8be1-4976-bb1d-8afdfbba1f30",
        "colab": {
          "base_uri": "https://localhost:8080/"
        }
      },
      "execution_count": null,
      "outputs": [
        {
          "output_type": "stream",
          "name": "stdout",
          "text": [
            "<class 'float'>\n"
          ]
        }
      ]
    },
    {
      "cell_type": "markdown",
      "source": [
        "Versatilitat de python (en C++ seria impossible)"
      ],
      "metadata": {
        "id": "v7RMQOxV3M08"
      }
    },
    {
      "cell_type": "code",
      "source": [
        "a = 'Hola bon dia em dic Albert'\n",
        "print(a)\n",
        "a = 123\n",
        "print(a)\n",
        "a = 0.000000000000001\n",
        "print(a)"
      ],
      "metadata": {
        "id": "JgFAxrJJ3Qf_",
        "outputId": "e7493fc6-e1fb-41e1-ea1f-a98c4d615e31",
        "colab": {
          "base_uri": "https://localhost:8080/"
        }
      },
      "execution_count": null,
      "outputs": [
        {
          "output_type": "stream",
          "name": "stdout",
          "text": [
            "Hola bon dia em dic Albert\n",
            "123\n",
            "1e-15\n"
          ]
        }
      ]
    },
    {
      "cell_type": "markdown",
      "metadata": {
        "nbpages": {
          "level": 3,
          "link": "[1.2.2.2 More Complicated Data Types](https://jckantor.github.io/CBE30338/01.02-Python-Basics.html#1.2.2.2-More-Complicated-Data-Types)",
          "section": "1.2.2.2 More Complicated Data Types"
        },
        "id": "pxykqvhT1Yi5"
      },
      "source": [
        "### 1.2 More Complicated Data Types"
      ]
    },
    {
      "cell_type": "code",
      "execution_count": null,
      "metadata": {
        "nbpages": {
          "level": 3,
          "link": "[1.2.2.2 More Complicated Data Types](https://jckantor.github.io/CBE30338/01.02-Python-Basics.html#1.2.2.2-More-Complicated-Data-Types)",
          "section": "1.2.2.2 More Complicated Data Types"
        },
        "scrolled": true,
        "id": "jNxQpHWj1Yi5",
        "outputId": "5cff7a1b-444a-44ed-e93c-7f95243335a6"
      },
      "outputs": [
        {
          "name": "stdout",
          "output_type": "stream",
          "text": [
            "['Green', 'Blue', 'Red']\n",
            "[10, 20, 30, 40, 50, 'Sixty']\n",
            "Green\n",
            "Red\n"
          ]
        }
      ],
      "source": [
        "# List\n",
        "prices = [10, 20, 30, 40, 50]\n",
        "\n",
        "# Empty list\n",
        "colors = []\n",
        "\n",
        "# Per afegir elements a una llista : append\n",
        "colors.append(\"Green\")\n",
        "colors.append(\"Blue\")\n",
        "colors.append(\"Red\")\n",
        "\n",
        "print(colors)\n",
        "\n",
        "# Els elements de la llista poden ser de tipus diferents\n",
        "prices.append(\"Sixty\")\n",
        "\n",
        "print(prices)\n",
        "\n",
        "# Per tenir accés a la posició i de una llista ho farem així:\n",
        "print(colors[0])\n",
        "print(colors[2])\n",
        "\n",
        "# En python (i també en C++) el primer element de la llista és el 0\n",
        "\n",
        "# En alguns llenguatges com el R, es comença per el 1"
      ]
    },
    {
      "cell_type": "markdown",
      "source": [
        "**Exercici**: busca com afegir un element al mig d'una llista"
      ],
      "metadata": {
        "id": "4_gl8TeYRH7i"
      }
    },
    {
      "cell_type": "code",
      "source": [
        "# Tuples\n",
        "\n",
        "# Son com les llistes pero que no es poden modificar\n",
        "\n",
        "# Tupla buida (inutil):\n",
        "empty_tuple = ()\n",
        "\n",
        "# Tupla:\n",
        "rosa_parks_info = (\"Rosa\", \"Parks\", 1913, \"February\", 4)\n",
        "\n",
        "# Per accedir als elements es com a les llistes\n",
        "print(rosa_parks_info[0] + \" \" + rosa_parks_info[1])\n",
        "\n",
        "# S'utilitzen moolt menys que les llistes"
      ],
      "metadata": {
        "id": "VPdRskVPPcKz"
      },
      "execution_count": null,
      "outputs": []
    },
    {
      "cell_type": "markdown",
      "source": [
        "De tipus de variable basics m'he deixat el **set** i el **dictionary**.\n",
        "\n",
        "\n",
        "La documentació oficial de python és bastant útil, t'explica els conceptes amb exemples: https://docs.python.org/3/tutorial/"
      ],
      "metadata": {
        "id": "puHW0nnLP9IQ"
      }
    },
    {
      "cell_type": "markdown",
      "metadata": {
        "nbpages": {
          "level": 3,
          "link": "[1.2.2.3 Using Variables](https://jckantor.github.io/CBE30338/01.02-Python-Basics.html#1.2.2.3-Using-Variables)",
          "section": "1.2.2.3 Using Variables"
        },
        "id": "fo1FvGgd1Yi6"
      },
      "source": [
        "### 1.3 Using Variables"
      ]
    },
    {
      "cell_type": "code",
      "execution_count": null,
      "metadata": {
        "nbpages": {
          "level": 3,
          "link": "[1.2.2.3 Using Variables](https://jckantor.github.io/CBE30338/01.02-Python-Basics.html#1.2.2.3-Using-Variables)",
          "section": "1.2.2.3 Using Variables"
        },
        "scrolled": true,
        "id": "I8KTji-G1Yi6",
        "outputId": "0a667df5-66bc-4d55-f756-bd06ac6f9c32",
        "colab": {
          "base_uri": "https://localhost:8080/"
        }
      },
      "outputs": [
        {
          "output_type": "stream",
          "name": "stdout",
          "text": [
            "8.0\n",
            "3.5\n",
            "12.9375\n",
            "2.5555555555555554\n",
            "1\n"
          ]
        }
      ],
      "source": [
        "float1 = 5.75\n",
        "float2 = 2.25\n",
        "#Addition, subtraction, multiplication, division are as you expect\n",
        "\n",
        "print(float1 + float2)\n",
        "print(float1 - float2)\n",
        "print(float1 * float2)\n",
        "print(float1 / float2)\n",
        "\n",
        "#Here's an interesting one that showed up in the first homework in 2017. Modulus:\n",
        "print(5 % 2)"
      ]
    },
    {
      "cell_type": "markdown",
      "metadata": {
        "nbpages": {
          "level": 3,
          "link": "[1.2.2.4 Importing in Python: Math and plotting](https://jckantor.github.io/CBE30338/01.02-Python-Basics.html#1.2.2.4-Importing-in-Python:-Math-and-plotting)",
          "section": "1.2.2.4 Importing in Python: Math and plotting"
        },
        "id": "i0ueClb41Yi7"
      },
      "source": [
        "### 1.4 Importing in Python: Libraries **EXTRA**"
      ]
    },
    {
      "cell_type": "markdown",
      "source": [
        "Utilitzar codi fora del base de python."
      ],
      "metadata": {
        "id": "XA4tl8VcULv5"
      }
    },
    {
      "cell_type": "markdown",
      "source": [
        "En general, abans d'utlitzar un paquet hauràs d'instalar-lo:\n",
        "\n",
        "``pip install numpy``\n",
        "\n",
        "``conda install numpy`` (en el cas de anaconda)"
      ],
      "metadata": {
        "id": "5Ox2jHpoUqVH"
      }
    },
    {
      "cell_type": "markdown",
      "source": [
        "**Math**"
      ],
      "metadata": {
        "id": "jCpDMu3NTk2P"
      }
    },
    {
      "cell_type": "markdown",
      "source": [
        "El propi python només conté les operacions matemàtiques més senzilles, però utilitzant el paquet \"math\" en podem utilitzar moltissimes"
      ],
      "metadata": {
        "id": "JUFztVGjT7B_"
      }
    },
    {
      "cell_type": "code",
      "execution_count": null,
      "metadata": {
        "nbpages": {
          "level": 3,
          "link": "[1.2.2.4 Importing in Python: Math and plotting](https://jckantor.github.io/CBE30338/01.02-Python-Basics.html#1.2.2.4-Importing-in-Python:-Math-and-plotting)",
          "section": "1.2.2.4 Importing in Python: Math and plotting"
        },
        "id": "OsqpAwjn1Yi7",
        "outputId": "d720bdb2-a149-490f-a6e5-a8733653aa52",
        "colab": {
          "base_uri": "https://localhost:8080/"
        }
      },
      "outputs": [
        {
          "output_type": "stream",
          "name": "stdout",
          "text": [
            "1.749199854809259\n",
            "9.487735836358526\n",
            "[1, 2, 3, 4, 5, 1, 2, 3, 4, 5, 10]\n"
          ]
        }
      ],
      "source": [
        "import math\n",
        "print(math.log(float1))\n",
        "print(math.exp(float2))\n",
        "\n",
        "# pots fer operacions amb llistes senceres\n",
        "list3 = [1, 2, 3, 4, 5]\n",
        "print(2 * list3 + [10])"
      ]
    },
    {
      "cell_type": "markdown",
      "source": [
        "També es pot importar funcions especifiques, d'aquesta manera no caldrà posar el math. al principi"
      ],
      "metadata": {
        "id": "TBe849C2U_Wj"
      }
    },
    {
      "cell_type": "code",
      "source": [
        "from math import cos\n",
        "\n",
        "print(cos(0))"
      ],
      "metadata": {
        "id": "6BKVBAIrVFlh",
        "outputId": "283811c9-e417-446c-9ac4-871d63ceb15c",
        "colab": {
          "base_uri": "https://localhost:8080/"
        }
      },
      "execution_count": null,
      "outputs": [
        {
          "output_type": "stream",
          "name": "stdout",
          "text": [
            "1.0\n"
          ]
        }
      ]
    },
    {
      "cell_type": "markdown",
      "source": [
        "**Numpy**"
      ],
      "metadata": {
        "id": "u0VKZFCuTrhZ"
      }
    },
    {
      "cell_type": "markdown",
      "source": [
        "Facilita molt el tractament de dades, i les operacions matemàtiques a grans blocs.\n",
        "\n",
        "Dins de la llibreria hi ha codi escrit en C que fa que sigui molt més ràpid"
      ],
      "metadata": {
        "id": "ejtSYFIzTu6Y"
      }
    },
    {
      "cell_type": "code",
      "source": [
        "import numpy as np\n",
        "\n",
        "# simple Numpy array\n",
        "data = [1, 2, 3, 4, 5]\n",
        "my_array = np.array(data)\n",
        "\n",
        "print(\"Original array:\", my_array)\n",
        "\n",
        "# Sumar 2 a cada element de l'array\n",
        "result = my_array + 2\n",
        "print(\"After adding 2:\", result)\n",
        "\n",
        "# Multiplicar per 3 cada element\n",
        "result = my_array * 3\n",
        "print(\"After multiplying by 3:\", result)\n",
        "\n",
        "# Calcular la mitjana\n",
        "mean_value = np.mean(my_array)\n",
        "print(\"Mean:\", mean_value)\n",
        "\n",
        "# Treure el minim\n",
        "max_value = np.max(my_array)\n",
        "print(\"Max:\", max_value)\n"
      ],
      "metadata": {
        "id": "kjTu4vT1UXeV"
      },
      "execution_count": null,
      "outputs": []
    },
    {
      "cell_type": "markdown",
      "source": [
        "**Matplotlib**"
      ],
      "metadata": {
        "id": "Xik88zOXUX29"
      }
    },
    {
      "cell_type": "markdown",
      "source": [
        "Alguns paquets et permeten fer gràfics"
      ],
      "metadata": {
        "id": "QXH82bRoWVgS"
      }
    },
    {
      "cell_type": "code",
      "execution_count": null,
      "metadata": {
        "nbpages": {
          "level": 3,
          "link": "[1.2.2.4 Importing in Python: Math and plotting](https://jckantor.github.io/CBE30338/01.02-Python-Basics.html#1.2.2.4-Importing-in-Python:-Math-and-plotting)",
          "section": "1.2.2.4 Importing in Python: Math and plotting"
        },
        "id": "a9MQlDCt1Yi7",
        "outputId": "5c3a0ce1-ed60-47fa-b7b9-5460611e4a57",
        "colab": {
          "base_uri": "https://localhost:8080/",
          "height": 447
        }
      },
      "outputs": [
        {
          "output_type": "execute_result",
          "data": {
            "text/plain": [
              "[<matplotlib.lines.Line2D at 0x7febf913b160>]"
            ]
          },
          "metadata": {},
          "execution_count": 18
        },
        {
          "output_type": "display_data",
          "data": {
            "text/plain": [
              "<Figure size 640x480 with 1 Axes>"
            ],
            "image/png": "[encoded data removed]"
          },
          "metadata": {}
        }
      ],
      "source": [
        "%matplotlib inline\n",
        "import matplotlib.pyplot as plt\n",
        "\n",
        "x_vals = [-2, -1, 0, 1, 2]\n",
        "y_vals = [-4, -2, 0, 2, 4]\n",
        "plt.plot(x_vals, y_vals)"
      ]
    },
    {
      "cell_type": "markdown",
      "source": [
        "Un altre exemple"
      ],
      "metadata": {
        "id": "4-DTF3CSWwUn"
      }
    },
    {
      "cell_type": "code",
      "source": [
        "# Sample data\n",
        "categories = ['Category 1', 'Category 2', 'Category 3', 'Category 4']\n",
        "values = [25, 30, 15, 20]\n",
        "\n",
        "# Create a bar plot\n",
        "plt.bar(categories, values, color='skyblue')\n",
        "\n",
        "# Add labels and a title\n",
        "plt.xlabel('Categories')\n",
        "plt.ylabel('Values')\n",
        "plt.title('Basic Bar Plot')\n",
        "\n",
        "# Display the plot\n",
        "plt.show()"
      ],
      "metadata": {
        "id": "zUfHL0I5Wtlb",
        "outputId": "8b230097-b7ff-43c6-e5f0-d8b83d9bcaaa",
        "colab": {
          "base_uri": "https://localhost:8080/",
          "height": 472
        }
      },
      "execution_count": null,
      "outputs": [
        {
          "output_type": "display_data",
          "data": {
            "text/plain": [
              "<Figure size 640x480 with 1 Axes>"
            ],
            "image/png": "[encoded data removed]"
          },
          "metadata": {}
        }
      ]
    }
  ],
  "metadata": {
    "anaconda-cloud": {},
    "kernelspec": {
      "display_name": "Python 3",
      "language": "python",
      "name": "python3"
    },
    "language_info": {
      "codemirror_mode": {
        "name": "ipython",
        "version": 3
      },
      "file_extension": ".py",
      "mimetype": "text/x-python",
      "name": "python",
      "nbconvert_exporter": "python",
      "pygments_lexer": "ipython3",
      "version": "3.7.3"
    },
    "colab": {
      "provenance": [],
      "include_colab_link": true
    }
  },
  "nbformat": 4,
  "nbformat_minor": 0
}