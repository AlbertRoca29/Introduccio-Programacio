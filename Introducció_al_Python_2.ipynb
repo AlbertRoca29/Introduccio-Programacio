{
  "cells": [
    {
      "cell_type": "markdown",
      "metadata": {
        "id": "view-in-github",
        "colab_type": "text"
      },
      "source": [
        "<a href=\"https://colab.research.google.com/github/AlbertRoca29/Introduccio-Python/blob/main/Introducci%C3%B3_al_Python_2.ipynb\" target=\"_parent\"><img src=\"https://colab.research.google.com/assets/colab-badge.svg\" alt=\"Open In Colab\"/></a>"
      ]
    },
    {
      "cell_type": "markdown",
      "metadata": {
        "nbpages": {
          "level": 1,
          "link": "[1.3 Python Conditionals and Libraries](https://jckantor.github.io/CBE30338/01.03-Python-Conditionals-and-Libraries.html#1.3-Python-Conditionals-and-Libraries)",
          "section": "1.3 Python Conditionals and Libraries"
        },
        "id": "Y-09KvAgXKvP"
      },
      "source": [
        "# 2 Python Loops and Conditionals"
      ]
    },
    {
      "cell_type": "markdown",
      "metadata": {
        "nbpages": {
          "level": 3,
          "link": "[1.2.2.5 Loops in Python](https://jckantor.github.io/CBE30338/01.02-Python-Basics.html#1.2.2.5-Loops-in-Python)",
          "section": "1.2.2.5 Loops in Python"
        },
        "id": "PpHsTwEs1Yi8"
      },
      "source": [
        "### 2.1 Loops in Python"
      ]
    },
    {
      "cell_type": "markdown",
      "source": [
        "Repetir el codi fins que es compleixi una condició"
      ],
      "metadata": {
        "id": "Ur79Y2DhYot_"
      }
    },
    {
      "cell_type": "code",
      "execution_count": null,
      "metadata": {
        "nbpages": {
          "level": 3,
          "link": "[1.2.2.5 Loops in Python](https://jckantor.github.io/CBE30338/01.02-Python-Basics.html#1.2.2.5-Loops-in-Python)",
          "section": "1.2.2.5 Loops in Python"
        },
        "id": "b9vDn1Nn1Yi8",
        "outputId": "ac7e0c97-97d9-4be7-8c09-9731c17c7794",
        "colab": {
          "base_uri": "https://localhost:8080/"
        }
      },
      "outputs": [
        {
          "output_type": "stream",
          "name": "stdout",
          "text": [
            "1\n",
            "1\n",
            "2\n",
            "3\n",
            "5\n",
            "8\n",
            "Let's try that again\n",
            "1\n",
            "1\n",
            "2\n",
            "3\n",
            "5\n",
            "8\n",
            "One more time:\n",
            "1\n",
            "1\n",
            "2\n",
            "3\n",
            "5\n",
            "8\n"
          ]
        }
      ],
      "source": [
        "# Llista\n",
        "fib = [1, 1, 2, 3, 5, 8]\n",
        "\n",
        "# While loops: Mentre es compleixi la condició repetirà el codi sense parar\n",
        "\n",
        "i = 0\n",
        "while(i < len(fib)):\n",
        "    print(fib[i])\n",
        "    i = i + 1\n",
        "\n",
        "# For loops: Indiques inicialment quantes vegades vols repetir el codi\n",
        "\n",
        "print(\"Let's try that again\")\n",
        "for i in range(0, len(fib)) :\n",
        "    print(fib[i])\n",
        "\n",
        "print(\"One more time:\")\n",
        "for e in fib:\n",
        "    print(e)\n",
        "\n",
        "\n",
        "# El tab que hi ha sota un loop és imprecindible"
      ]
    },
    {
      "cell_type": "markdown",
      "metadata": {
        "nbpages": {
          "level": 2,
          "link": "[1.3.2 Conditionals in Python](https://jckantor.github.io/CBE30338/01.03-Python-Conditionals-and-Libraries.html#1.3.2-Conditionals-in-Python)",
          "section": "1.3.2 Conditionals in Python"
        },
        "id": "f-U0IbaQXKvS"
      },
      "source": [
        "## 2.2 Conditionals in Python"
      ]
    },
    {
      "cell_type": "markdown",
      "source": [
        "Executar codi només quan es compleix (o no) una condició\n",
        "\n",
        "**if**  la porta esta oberta : passar\n",
        "\n",
        "**else** : no passar"
      ],
      "metadata": {
        "id": "J9RLey9qZgf4"
      }
    },
    {
      "cell_type": "code",
      "execution_count": null,
      "metadata": {
        "nbpages": {
          "level": 2,
          "link": "[1.3.2 Conditionals in Python](https://jckantor.github.io/CBE30338/01.03-Python-Conditionals-and-Libraries.html#1.3.2-Conditionals-in-Python)",
          "section": "1.3.2 Conditionals in Python"
        },
        "scrolled": true,
        "colab": {
          "base_uri": "https://localhost:8080/"
        },
        "id": "EO__dXO2XKvU",
        "outputId": "01c2f54f-af95-4d75-eed9-9807470f3807"
      },
      "outputs": [
        {
          "output_type": "stream",
          "name": "stdout",
          "text": [
            "This is the answer to the ultimate question\n",
            "This print statement is run no matter what because it is not indented!\n"
          ]
        }
      ],
      "source": [
        "# canvia el valor de answer, i mira que passa !\n",
        "answer = 42\n",
        "\n",
        "if answer == 42:\n",
        "    print('This is the answer to the ultimate question')\n",
        "\n",
        "elif answer < 42:\n",
        "    print('This is less than the answer to the ultimate question')\n",
        "\n",
        "else:\n",
        "    print('This is more than the answer to the ultimate question')\n",
        "\n",
        "print('This print statement is run no matter what because it is not indented!')\n",
        "\n",
        "# El tab que hi ha sota un if és imprecindible (en altres llenguatges pot ser opcional)"
      ]
    },
    {
      "cell_type": "code",
      "source": [
        "# Boolean operations\n",
        "snowy = True\n",
        "day = \"Monday\"\n",
        "\n",
        "# How long does it take me to get to class in the morning?\n",
        "\n",
        "if (snowy == False) and (day != \"Monday\"):\n",
        "    #and is boolean and. True only if both are true. False otherwise\n",
        "    time = 7\n",
        "elif (snowy == True) and (day == \"Monday\"):\n",
        "    time = 11\n",
        "elif (rainy == True) or (day == \"Monday\"):\n",
        "    time = 9\n",
        "\n",
        "print(\"It takes me %d minutes\" %(time))\n"
      ],
      "metadata": {
        "id": "y3yZLjYoanLA",
        "outputId": "b6d11238-24ee-4f77-e0d2-7e0bd73076bd",
        "colab": {
          "base_uri": "https://localhost:8080/"
        }
      },
      "execution_count": null,
      "outputs": [
        {
          "output_type": "stream",
          "name": "stdout",
          "text": [
            "It takes me 11 minutes\n"
          ]
        }
      ]
    },
    {
      "cell_type": "markdown",
      "metadata": {
        "nbpages": {
          "level": 2,
          "link": "[1.3.3 Functions in Python](https://jckantor.github.io/CBE30338/01.03-Python-Conditionals-and-Libraries.html#1.3.3-Functions-in-Python)",
          "section": "1.3.3 Functions in Python"
        },
        "id": "B0OJKh4nXKvZ"
      },
      "source": [
        "## 2.3 Functions in Python"
      ]
    },
    {
      "cell_type": "code",
      "execution_count": null,
      "metadata": {
        "nbpages": {
          "level": 2,
          "link": "[1.3.3 Functions in Python](https://jckantor.github.io/CBE30338/01.03-Python-Conditionals-and-Libraries.html#1.3.3-Functions-in-Python)",
          "section": "1.3.3 Functions in Python"
        },
        "id": "EUIPIJ4kXKva",
        "outputId": "907b4b65-9e06-4597-91ac-170e00d3cf87",
        "colab": {
          "base_uri": "https://localhost:8080/"
        }
      },
      "outputs": [
        {
          "output_type": "stream",
          "name": "stdout",
          "text": [
            "hola\n",
            "hola , bon dia\n"
          ]
        }
      ],
      "source": [
        "# Podem separar codi que es repeteixi en funcions. Les funcions poden tenir un input i/o un output pero cap és necessari.\n",
        "\n",
        "# per crear una funció : def nom_funció(input)\n",
        "\n",
        "# funció sense input ni output\n",
        "def print_hola():\n",
        "    print(\"hola\")\n",
        "\n",
        "# funció amb un element de input pero cap output\n",
        "def print_me( string ):\n",
        "    print(string)\n",
        "\n",
        "# per cridar les funcions només cal el seu nom\n",
        "\n",
        "print_hola()\n",
        "\n",
        "print_me(\"hola , bon dia\")"
      ]
    },
    {
      "cell_type": "code",
      "source": [
        "# funció amb un element de input i amb output !\n",
        "def step(x):\n",
        "    if (x < 0):\n",
        "        return -1\n",
        "    elif (x > 0):\n",
        "        return 1\n",
        "\n",
        "print(step(-1))\n",
        "print(step(1))\n",
        "\n",
        "#what happens for x = 0?\n",
        "print(step(0))\n",
        "\n",
        "\n",
        "#Python automatically adds in a \"return none\" statement if you are missing one.\n",
        "#If you see \"none\" make sure your program can work with that!\n",
        "\n",
        "\n",
        "#Fix the return none issue\n",
        "def step_v2(x):\n",
        "    if (x < 0):\n",
        "        return -1\n",
        "    elif (x >= 0):\n",
        "        return 1\n",
        "\n",
        "print(step_v2(0))"
      ],
      "metadata": {
        "id": "Fpp2L-Tgb6KP",
        "outputId": "f01067ae-2f4a-47b7-a29f-aecfe8ba0bec",
        "colab": {
          "base_uri": "https://localhost:8080/"
        }
      },
      "execution_count": null,
      "outputs": [
        {
          "output_type": "stream",
          "name": "stdout",
          "text": [
            "-1\n",
            "1\n",
            "None\n",
            "1\n"
          ]
        }
      ]
    },
    {
      "cell_type": "code",
      "source": [
        "# Nota: quan la funció no té output és com si hi hagués \"return None\" al final.\n",
        "\n",
        "print(print_me(\"a\"))"
      ],
      "metadata": {
        "id": "rcuiHukYcGOH",
        "outputId": "aa17fbd6-f2fb-49c0-80d5-69a36cafe75f",
        "colab": {
          "base_uri": "https://localhost:8080/"
        }
      },
      "execution_count": null,
      "outputs": [
        {
          "output_type": "stream",
          "name": "stdout",
          "text": [
            "a\n",
            "None\n"
          ]
        }
      ]
    }
  ],
  "metadata": {
    "anaconda-cloud": {},
    "kernelspec": {
      "display_name": "Python 3",
      "language": "python",
      "name": "python3"
    },
    "language_info": {
      "codemirror_mode": {
        "name": "ipython",
        "version": 3
      },
      "file_extension": ".py",
      "mimetype": "text/x-python",
      "name": "python",
      "nbconvert_exporter": "python",
      "pygments_lexer": "ipython3",
      "version": "3.7.4"
    },
    "colab": {
      "provenance": [],
      "include_colab_link": true
    }
  },
  "nbformat": 4,
  "nbformat_minor": 0
}