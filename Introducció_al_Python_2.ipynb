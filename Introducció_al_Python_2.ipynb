{
  "cells": [
    {
      "cell_type": "markdown",
      "metadata": {
        "id": "view-in-github",
        "colab_type": "text"
      },
      "source": [
        "<a href=\"https://colab.research.google.com/github/AlbertRoca29/Introduccio-Programacio/blob/main/Introducci%C3%B3_al_Python_2.ipynb\" target=\"_parent\"><img src=\"https://colab.research.google.com/assets/colab-badge.svg\" alt=\"Open In Colab\"/></a>"
      ]
    },
    {
      "cell_type": "markdown",
      "metadata": {
        "nbpages": {
          "level": 1,
          "link": "[1.3 Python Conditionals and Libraries](https://jckantor.github.io/CBE30338/01.03-Python-Conditionals-and-Libraries.html#1.3-Python-Conditionals-and-Libraries)",
          "section": "1.3 Python Conditionals and Libraries"
        },
        "id": "Y-09KvAgXKvP"
      },
      "source": [
        "# 2 Python Loops and Conditionals"
      ]
    },
    {
      "cell_type": "markdown",
      "metadata": {
        "nbpages": {
          "level": 3,
          "link": "[1.2.2.5 Loops in Python](https://jckantor.github.io/CBE30338/01.02-Python-Basics.html#1.2.2.5-Loops-in-Python)",
          "section": "1.2.2.5 Loops in Python"
        },
        "id": "PpHsTwEs1Yi8"
      },
      "source": [
        "### 2.1 Loops in Python"
      ]
    },
    {
      "cell_type": "markdown",
      "source": [
        "Repetir el codi fins que es compleixi una condició"
      ],
      "metadata": {
        "id": "Ur79Y2DhYot_"
      }
    },
    {
      "cell_type": "code",
      "execution_count": 14,
      "metadata": {
        "nbpages": {
          "level": 3,
          "link": "[1.2.2.5 Loops in Python](https://jckantor.github.io/CBE30338/01.02-Python-Basics.html#1.2.2.5-Loops-in-Python)",
          "section": "1.2.2.5 Loops in Python"
        },
        "id": "b9vDn1Nn1Yi8",
        "outputId": "9f93e5f0-d7c1-4a7a-959d-66fd57ba538b",
        "colab": {
          "base_uri": "https://localhost:8080/"
        }
      },
      "outputs": [
        {
          "output_type": "stream",
          "name": "stdout",
          "text": [
            "1\n",
            "1\n",
            "2\n",
            "3\n",
            "5\n",
            "8\n"
          ]
        }
      ],
      "source": [
        "# Llista\n",
        "fib = [1, 1, 2, 3, 5, 8]\n",
        "\n",
        "# While loops: Mentre es compleixi la condició repetirà el codi sense parar\n",
        "\n",
        "i = 0\n",
        "while(i < len(fib)):\n",
        "    print(fib[i])\n",
        "    i = i + 1\n",
        "\n",
        "\n"
      ]
    },
    {
      "cell_type": "code",
      "source": [
        "# For loops: Indiques inicialment quantes vegades vols repetir el codi\n",
        "\n",
        "for i in range(0, len(fib)) :\n",
        "    print(fib[i])"
      ],
      "metadata": {
        "colab": {
          "base_uri": "https://localhost:8080/"
        },
        "id": "7VpBTkmi-weD",
        "outputId": "a2a4f048-92e6-4fe8-dad5-9d036ac0ce59"
      },
      "execution_count": 15,
      "outputs": [
        {
          "output_type": "stream",
          "name": "stdout",
          "text": [
            "1\n",
            "1\n",
            "2\n",
            "3\n",
            "5\n",
            "8\n"
          ]
        }
      ]
    },
    {
      "cell_type": "code",
      "source": [
        "# Manera òptima\n",
        "\n",
        "for e in fib:\n",
        "    print(e)"
      ],
      "metadata": {
        "colab": {
          "base_uri": "https://localhost:8080/"
        },
        "id": "vCA9C-Na-yCq",
        "outputId": "ccf50edd-2a9b-47b7-ec41-b291d9d96bae"
      },
      "execution_count": 16,
      "outputs": [
        {
          "output_type": "stream",
          "name": "stdout",
          "text": [
            "1\n",
            "1\n",
            "2\n",
            "3\n",
            "5\n",
            "8\n"
          ]
        }
      ]
    },
    {
      "cell_type": "markdown",
      "source": [
        "Nota: El tab que hi ha sota un loop és imprecindible"
      ],
      "metadata": {
        "id": "0M73HK-g-7PI"
      }
    },
    {
      "cell_type": "markdown",
      "source": [
        "**Exercici**: Calcula la suma de les primeres 10 potencies de 2."
      ],
      "metadata": {
        "id": "zD-pBcLN-8gR"
      }
    },
    {
      "cell_type": "markdown",
      "metadata": {
        "nbpages": {
          "level": 2,
          "link": "[1.3.2 Conditionals in Python](https://jckantor.github.io/CBE30338/01.03-Python-Conditionals-and-Libraries.html#1.3.2-Conditionals-in-Python)",
          "section": "1.3.2 Conditionals in Python"
        },
        "id": "f-U0IbaQXKvS"
      },
      "source": [
        "## 2.2 Conditionals in Python"
      ]
    },
    {
      "cell_type": "markdown",
      "source": [
        "Executar codi només quan es compleix (o no) una condició\n",
        "\n",
        "**if**  la porta esta oberta : ``passar``\n",
        "\n",
        "**else** : ``no passar``"
      ],
      "metadata": {
        "id": "J9RLey9qZgf4"
      }
    },
    {
      "cell_type": "code",
      "execution_count": 17,
      "metadata": {
        "nbpages": {
          "level": 2,
          "link": "[1.3.2 Conditionals in Python](https://jckantor.github.io/CBE30338/01.03-Python-Conditionals-and-Libraries.html#1.3.2-Conditionals-in-Python)",
          "section": "1.3.2 Conditionals in Python"
        },
        "scrolled": true,
        "colab": {
          "base_uri": "https://localhost:8080/"
        },
        "id": "EO__dXO2XKvU",
        "outputId": "9c939146-136d-4c1e-f4be-949bf9759ff3"
      },
      "outputs": [
        {
          "output_type": "stream",
          "name": "stdout",
          "text": [
            "12\n",
            "This is less than the answer to the ultimate question\n",
            "This print statement is run no matter what because it is not indented!\n"
          ]
        }
      ],
      "source": [
        "# canvia el valor de answer, i mira que passa !\n",
        "answer = int(input())\n",
        "\n",
        "if answer == 42:\n",
        "    print('This is the answer to the ultimate question')\n",
        "\n",
        "elif answer < 42:\n",
        "    print('This is less than the answer to the ultimate question')\n",
        "\n",
        "else:\n",
        "    print('This is more than the answer to the ultimate question')\n",
        "print('This print statement is run no matter what because it is not indented!')\n",
        "\n",
        "# El tab que hi ha sota un if és imprecindible (en altres llenguatges pot ser opcional)"
      ]
    },
    {
      "cell_type": "code",
      "source": [
        "# Boolean operations\n",
        "snowy = True\n",
        "day = \"Monday\"\n",
        "\n",
        "# How long does it take me to get to class in the morning?\n",
        "\n",
        "if (snowy == False) and (day != \"Monday\"):\n",
        "    time = 7\n",
        "elif (snowy == True) or (day == \"Monday\"):\n",
        "    time = 11\n",
        "elif (snowy == True) and (day == \"Monday\"):\n",
        "    time = 9\n",
        "\n",
        "print(\"It takes me %d minutes\" %(time)) # una altra manera de printar"
      ],
      "metadata": {
        "id": "y3yZLjYoanLA",
        "outputId": "d51b7581-2e1b-46a5-d932-d8e2b67fc626",
        "colab": {
          "base_uri": "https://localhost:8080/"
        }
      },
      "execution_count": 18,
      "outputs": [
        {
          "output_type": "stream",
          "name": "stdout",
          "text": [
            "It takes me 11 minutes\n"
          ]
        }
      ]
    },
    {
      "cell_type": "markdown",
      "source": [
        "**Exercici**: Escriu la cadena de condicions del bloc anterior de una altra manera. A poder ser, de manera més eficient"
      ],
      "metadata": {
        "id": "Qj0Ac-YRAH4X"
      }
    },
    {
      "cell_type": "markdown",
      "metadata": {
        "nbpages": {
          "level": 2,
          "link": "[1.3.3 Functions in Python](https://jckantor.github.io/CBE30338/01.03-Python-Conditionals-and-Libraries.html#1.3.3-Functions-in-Python)",
          "section": "1.3.3 Functions in Python"
        },
        "id": "B0OJKh4nXKvZ"
      },
      "source": [
        "## 2.3 Functions in Python"
      ]
    },
    {
      "cell_type": "code",
      "execution_count": 19,
      "metadata": {
        "nbpages": {
          "level": 2,
          "link": "[1.3.3 Functions in Python](https://jckantor.github.io/CBE30338/01.03-Python-Conditionals-and-Libraries.html#1.3.3-Functions-in-Python)",
          "section": "1.3.3 Functions in Python"
        },
        "id": "EUIPIJ4kXKva",
        "outputId": "935a6d95-3add-41b6-f520-ba62949364c7",
        "colab": {
          "base_uri": "https://localhost:8080/"
        }
      },
      "outputs": [
        {
          "output_type": "stream",
          "name": "stdout",
          "text": [
            "hola\n",
            "hola , bon dia\n"
          ]
        }
      ],
      "source": [
        "# Podem separar codi que es repeteixi en funcions. Les funcions poden tenir un input i/o un output pero cap és necessari.\n",
        "\n",
        "# per crear una funció : def nom_funció(input)\n",
        "\n",
        "# funció sense input ni output\n",
        "def print_hola():\n",
        "    print(\"hola\")\n",
        "\n",
        "# funció amb un element de input pero cap output\n",
        "def print_me( string ):\n",
        "    print(string)\n",
        "\n",
        "# per cridar les funcions només cal el seu nom\n",
        "\n",
        "print_hola()\n",
        "\n",
        "print_me(\"hola , bon dia\")"
      ]
    },
    {
      "cell_type": "code",
      "source": [
        "# funció amb un element de input i amb output !\n",
        "def step(x):\n",
        "    if (x < 0):\n",
        "        return -1\n",
        "    elif (x > 0):\n",
        "        return 1\n",
        "\n",
        "print(step(-1))\n",
        "print(step(1))\n",
        "\n",
        "# que passa per x = 0?\n",
        "print(step(0))\n",
        "\n",
        "# Nota: al final de tota funció hi ha un \"return None\" invisible."
      ],
      "metadata": {
        "id": "Fpp2L-Tgb6KP",
        "outputId": "36fed177-30bf-46e9-9b95-816bb77518c7",
        "colab": {
          "base_uri": "https://localhost:8080/"
        }
      },
      "execution_count": 20,
      "outputs": [
        {
          "output_type": "stream",
          "name": "stdout",
          "text": [
            "-1\n",
            "1\n",
            "None\n"
          ]
        }
      ]
    },
    {
      "cell_type": "markdown",
      "source": [
        "**Exercici**: Com solucionaries el problema de la funció step perque mai retorni None? Escriu la nova funció ``step_v2()``"
      ],
      "metadata": {
        "id": "vwoiBpeeBYA2"
      }
    },
    {
      "cell_type": "markdown",
      "source": [
        "### Exercicis que combinen tot el que s'ha après !!!"
      ],
      "metadata": {
        "id": "Cw-LTL79CgKc"
      }
    },
    {
      "cell_type": "markdown",
      "source": [
        "a) Escriu una funció que calculi l'IMC d'una persona a partir del pes (en kg) i l'alçada (en metres) i retorni una categoria que indiqui si la persona és sota pes, normal, sobrepès o obesa."
      ],
      "metadata": {
        "id": "Zi2STpLMDRYY"
      }
    },
    {
      "cell_type": "code",
      "source": [],
      "metadata": {
        "id": "SQ2gzfDmCk0G"
      },
      "execution_count": 20,
      "outputs": []
    },
    {
      "cell_type": "markdown",
      "source": [
        "b) Crea una funció que prengui dues llistes com a entrada i retorni una nova llista amb només els elements comuns entre les dues llistes.\n",
        "\n"
      ],
      "metadata": {
        "id": "1W0-Pl9aCoSi"
      }
    },
    {
      "cell_type": "code",
      "source": [],
      "metadata": {
        "id": "jBYAOHinCpow"
      },
      "execution_count": 20,
      "outputs": []
    },
    {
      "cell_type": "markdown",
      "source": [
        "c) Escriu un programa que generi un número aleatori entre 1 i 100 i permeti a l'usuari endevinar el número. El programa ha de donar pistes (més gran / més petit) i continuar fins que l'usuari encerti el número correcte.\n",
        "\n",
        "Per generar un nombre aleatori importa la funció ``randint()`` del paquet ``random``"
      ],
      "metadata": {
        "id": "F3WEdAamCqbJ"
      }
    },
    {
      "cell_type": "code",
      "source": [],
      "metadata": {
        "id": "P6cEFFh5DE_q"
      },
      "execution_count": 20,
      "outputs": []
    }
  ],
  "metadata": {
    "anaconda-cloud": {},
    "kernelspec": {
      "display_name": "Python 3",
      "language": "python",
      "name": "python3"
    },
    "language_info": {
      "codemirror_mode": {
        "name": "ipython",
        "version": 3
      },
      "file_extension": ".py",
      "mimetype": "text/x-python",
      "name": "python",
      "nbconvert_exporter": "python",
      "pygments_lexer": "ipython3",
      "version": "3.7.4"
    },
    "colab": {
      "provenance": [],
      "include_colab_link": true
    }
  },
  "nbformat": 4,
  "nbformat_minor": 0
}